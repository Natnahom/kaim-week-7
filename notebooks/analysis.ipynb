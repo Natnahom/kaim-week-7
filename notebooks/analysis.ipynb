{
 "cells": [
  {
   "cell_type": "code",
   "execution_count": 1,
   "metadata": {},
   "outputs": [],
   "source": [
    "import os, sys\n",
    "\n",
    "notebook_dir = os.getcwd()\n",
    "\n",
    "#add path\n",
    "sys.path.append(os.path.abspath(os.path.join(notebook_dir, '..')))"
   ]
  },
  {
   "cell_type": "code",
   "execution_count": 2,
   "metadata": {},
   "outputs": [],
   "source": [
    "from scripts.data_cleaning import *\n",
    "from scripts.storing_in_psql import *"
   ]
  },
  {
   "cell_type": "code",
   "execution_count": 3,
   "metadata": {},
   "outputs": [
    {
     "name": "stderr",
     "output_type": "stream",
     "text": [
      "c:\\Users\\pc\\Desktop\\10_Academy\\Week-7\\kaim-week-7\\scripts\\data_cleaning.py:31: FutureWarning: A value is trying to be set on a copy of a DataFrame or Series through chained assignment using an inplace method.\n",
      "The behavior will change in pandas 3.0. This inplace method will never work because the intermediate object on which we are setting values always behaves as a copy.\n",
      "\n",
      "For example, when doing 'df[col].method(value, inplace=True)', try using 'df.method({col: value}, inplace=True)' or df[col] = df[col].method(value) instead, to perform the operation inplace on the original object.\n",
      "\n",
      "\n",
      "  df[\"message\"].fillna(\"\", inplace=True)  # Fill missing messages with empty string\n",
      "c:\\Users\\pc\\Desktop\\10_Academy\\Week-7\\kaim-week-7\\scripts\\data_cleaning.py:31: FutureWarning: A value is trying to be set on a copy of a DataFrame or Series through chained assignment using an inplace method.\n",
      "The behavior will change in pandas 3.0. This inplace method will never work because the intermediate object on which we are setting values always behaves as a copy.\n",
      "\n",
      "For example, when doing 'df[col].method(value, inplace=True)', try using 'df.method({col: value}, inplace=True)' or df[col] = df[col].method(value) instead, to perform the operation inplace on the original object.\n",
      "\n",
      "\n",
      "  df[\"message\"].fillna(\"\", inplace=True)  # Fill missing messages with empty string\n",
      "c:\\Users\\pc\\Desktop\\10_Academy\\Week-7\\kaim-week-7\\scripts\\data_cleaning.py:31: FutureWarning: A value is trying to be set on a copy of a DataFrame or Series through chained assignment using an inplace method.\n",
      "The behavior will change in pandas 3.0. This inplace method will never work because the intermediate object on which we are setting values always behaves as a copy.\n",
      "\n",
      "For example, when doing 'df[col].method(value, inplace=True)', try using 'df.method({col: value}, inplace=True)' or df[col] = df[col].method(value) instead, to perform the operation inplace on the original object.\n",
      "\n",
      "\n",
      "  df[\"message\"].fillna(\"\", inplace=True)  # Fill missing messages with empty string\n",
      "c:\\Users\\pc\\Desktop\\10_Academy\\Week-7\\kaim-week-7\\scripts\\data_cleaning.py:31: FutureWarning: A value is trying to be set on a copy of a DataFrame or Series through chained assignment using an inplace method.\n",
      "The behavior will change in pandas 3.0. This inplace method will never work because the intermediate object on which we are setting values always behaves as a copy.\n",
      "\n",
      "For example, when doing 'df[col].method(value, inplace=True)', try using 'df.method({col: value}, inplace=True)' or df[col] = df[col].method(value) instead, to perform the operation inplace on the original object.\n",
      "\n",
      "\n",
      "  df[\"message\"].fillna(\"\", inplace=True)  # Fill missing messages with empty string\n"
     ]
    }
   ],
   "source": [
    "# clean the data and put it in a separate file\n",
    "input_file1 = \"../raw_data/@DoctorsET_messages.csv\"\n",
    "output_file1 = \"../cleaned_data/DoctorsET_cleaned.csv\"\n",
    "\n",
    "input_file2 = \"../raw_data/@EAHCI_messages.csv\"\n",
    "output_file2 = \"../cleaned_data/EAHCI_messages.csv\"\n",
    "\n",
    "input_file3 = \"../raw_data/@lobelia4cosmetics_messages.csv\"\n",
    "output_file3 = \"../cleaned_data/lobelia4cosmetics_messages.csv\"\n",
    "\n",
    "input_file4 = \"../raw_data/@yetenaweg_messages.csv\"\n",
    "output_file4 = \"../cleaned_data/yetenaweg_messages.csv\"\n",
    "\n",
    "clean_data(input_file1, output_file1)\n",
    "clean_data(input_file2, output_file2)\n",
    "clean_data(input_file3, output_file3)\n",
    "clean_data(input_file4, output_file4)\n"
   ]
  },
  {
   "cell_type": "code",
   "execution_count": 4,
   "metadata": {},
   "outputs": [],
   "source": [
    "save_to_postgresql(\"../cleaned_data/DoctorsET_cleaned.csv\", \"doctorset_messages\")\n",
    "save_to_postgresql(\"../cleaned_data/EAHCI_messages.csv\", \"eahci_messages\")\n",
    "save_to_postgresql(\"../cleaned_data/lobelia4cosmetics_messages.csv\", \"lobelia4cosmetics_messages\")\n",
    "save_to_postgresql(\"../cleaned_data/yetenaweg_messages\", \"yetenaweg_messages\")"
   ]
  }
 ],
 "metadata": {
  "kernelspec": {
   "display_name": ".myvenv7",
   "language": "python",
   "name": "python3"
  },
  "language_info": {
   "codemirror_mode": {
    "name": "ipython",
    "version": 3
   },
   "file_extension": ".py",
   "mimetype": "text/x-python",
   "name": "python",
   "nbconvert_exporter": "python",
   "pygments_lexer": "ipython3",
   "version": "3.9.13"
  }
 },
 "nbformat": 4,
 "nbformat_minor": 2
}
