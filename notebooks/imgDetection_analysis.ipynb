{
 "cells": [
  {
   "cell_type": "code",
   "execution_count": 1,
   "metadata": {},
   "outputs": [],
   "source": [
    "import os, sys\n",
    "\n",
    "notebook_dir = os.getcwd()\n",
    "\n",
    "#add path\n",
    "sys.path.append(os.path.abspath(os.path.join(notebook_dir, '..')))"
   ]
  },
  {
   "cell_type": "code",
   "execution_count": 2,
   "metadata": {},
   "outputs": [],
   "source": [
    "from src.config import *\n",
    "from src.database import *\n",
    "from src.detector import *\n",
    "from src.logger import *"
   ]
  },
  {
   "cell_type": "code",
   "execution_count": null,
   "metadata": {},
   "outputs": [],
   "source": [
    "# from src.config import IMAGE_DIR\n",
    "# from src.detector import YOLODetector\n",
    "# from src.database import create_detections_table\n",
    "# from src.logger import setup_logger\n",
    "import sys\n",
    "import os\n",
    "\n",
    "logger = setup_logger()\n",
    "\n",
    "# Create the detections table in the database\n",
    "create_detections_table()\n",
    "logger.info(\"Created detections table in the database.\")\n",
    "\n",
    "# Initialize the YOLO detector with the model path\n",
    "detector = YOLODetector()\n",
    "\n",
    "# Process all images in the IMAGE_DIR\n",
    "for image_name in os.listdir(IMAGE_DIR):\n",
    "    image_path = os.path.join(IMAGE_DIR, image_name)\n",
    "    if os.path.isfile(image_path):\n",
    "        detections = detector.detect_objects(image_path)\n",
    "        detector.process_detections(detections, image_path)"
   ]
  }
 ],
 "metadata": {
  "kernelspec": {
   "display_name": ".myvenv7",
   "language": "python",
   "name": "python3"
  },
  "language_info": {
   "codemirror_mode": {
    "name": "ipython",
    "version": 3
   },
   "file_extension": ".py",
   "mimetype": "text/x-python",
   "name": "python",
   "nbconvert_exporter": "python",
   "pygments_lexer": "ipython3",
   "version": "3.9.13"
  }
 },
 "nbformat": 4,
 "nbformat_minor": 2
}
